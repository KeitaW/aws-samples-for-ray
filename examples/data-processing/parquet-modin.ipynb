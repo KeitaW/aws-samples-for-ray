{
 "cells": [
  {
   "cell_type": "code",
   "execution_count": null,
   "id": "6250c310-7026-4069-9ae2-25ac8e580636",
   "metadata": {
    "tags": []
   },
   "outputs": [],
   "source": [
    "%pip install modin s3fs"
   ]
  },
  {
   "cell_type": "code",
   "execution_count": null,
   "id": "a1d65d37-6a53-4473-beae-4c7d8a2ea3fa",
   "metadata": {
    "tags": []
   },
   "outputs": [],
   "source": [
    "import ray\n",
    "\n",
    "ray.shutdown()\n",
    "ray.init(address=\"ray://localhost:10001\",\n",
    "         runtime_env={\"pip\": [\"s3fs\", \"modin\"]})"
   ]
  },
  {
   "cell_type": "code",
   "execution_count": null,
   "id": "390b8312-fbd8-462f-9534-dd48e5173447",
   "metadata": {
    "tags": []
   },
   "outputs": [],
   "source": [
    "import modin.pandas as pd\n",
    "\n",
    "df = pd.read_parquet(\"s3://amazon-reviews-pds/parquet/product_category=Digital_Software/\")\n",
    "\n",
    "df.count()"
   ]
  },
  {
   "cell_type": "code",
   "execution_count": null,
   "id": "2a3c2e1d-9aaa-47c0-b4fc-2f58f43917ca",
   "metadata": {},
   "outputs": [],
   "source": [
    "import modin.pandas as pd\n",
    "\n",
    "df = pd.read_csv(\"Womens Clothing E-Commerce Reviews.csv\")"
   ]
  },
  {
   "cell_type": "code",
   "execution_count": null,
   "id": "ee564bbf-2113-4da4-a40f-cdcf479f2315",
   "metadata": {},
   "outputs": [],
   "source": []
  }
 ],
 "metadata": {
  "kernelspec": {
   "display_name": "Python 3 (ipykernel)",
   "language": "python",
   "name": "python3"
  },
  "language_info": {
   "codemirror_mode": {
    "name": "ipython",
    "version": 3
   },
   "file_extension": ".py",
   "mimetype": "text/x-python",
   "name": "python",
   "nbconvert_exporter": "python",
   "pygments_lexer": "ipython3",
   "version": "3.9.12"
  }
 },
 "nbformat": 4,
 "nbformat_minor": 5
}
