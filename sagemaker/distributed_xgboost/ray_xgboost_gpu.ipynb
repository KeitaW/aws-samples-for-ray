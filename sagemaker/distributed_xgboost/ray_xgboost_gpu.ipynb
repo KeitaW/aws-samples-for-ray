{
 "cells": [
  {
   "cell_type": "code",
   "execution_count": null,
   "id": "c4ab1da9",
   "metadata": {},
   "outputs": [],
   "source": [
    "import sagemaker\n",
    "from sagemaker.pytorch import PyTorch\n",
    "import boto3"
   ]
  },
  {
   "cell_type": "code",
   "execution_count": null,
   "id": "520c8810",
   "metadata": {},
   "outputs": [],
   "source": [
    "s3_client = boto3.client(\"s3\")\n",
    "sess = sagemaker.session.Session()\n",
    "role = sagemaker.get_execution_role()\n",
    "bucket = sess.default_bucket()\n",
    "key_prefix = \"ray_xgboost_distributed\""
   ]
  },
  {
   "cell_type": "code",
   "execution_count": null,
   "id": "83a6519e",
   "metadata": {},
   "outputs": [],
   "source": [
    "!wget http://kt.ijs.si/elena_ikonomovska/datasets/airline/airline_14col.data.bz2"
   ]
  },
  {
   "cell_type": "code",
   "execution_count": null,
   "id": "cad5369f",
   "metadata": {},
   "outputs": [],
   "source": [
    "input_data = sess.upload_data(\"airline_14col.data.bz2\", bucket, key_prefix=f\"{key_prefix}/input\")"
   ]
  },
  {
   "cell_type": "code",
   "execution_count": null,
   "id": "dc1bf8ea",
   "metadata": {},
   "outputs": [],
   "source": [
    "subnets=None\n",
    "security_group_ids=None"
   ]
  },
  {
   "cell_type": "code",
   "execution_count": null,
   "id": "9adec521",
   "metadata": {},
   "outputs": [],
   "source": [
    "# Pytorch Image is used to enable distributed GPU training\n",
    "estimator_gpu = PyTorch(\n",
    "    source_dir=\"src\",\n",
    "    entry_point=\"train_xgboost_airline.py\",\n",
    "    subnets=subnets,\n",
    "    security_group_ids=security_group_ids,\n",
    "    role=role,\n",
    "    instance_count=4, \n",
    "    instance_type=\"ml.g5.8xlarge\",\n",
    "    framework_version=\"1.8\",\n",
    "    py_version=\"py36\"\n",
    ")"
   ]
  },
  {
   "cell_type": "code",
   "execution_count": null,
   "id": "36ce59d9",
   "metadata": {},
   "outputs": [],
   "source": [
    "estimator_gpu.fit({\"train\": input_data})"
   ]
  },
  {
   "cell_type": "code",
   "execution_count": null,
   "id": "8acb2c4d",
   "metadata": {},
   "outputs": [],
   "source": []
  }
 ],
 "metadata": {
  "kernelspec": {
   "display_name": "conda_python3",
   "language": "python",
   "name": "conda_python3"
  },
  "language_info": {
   "codemirror_mode": {
    "name": "ipython",
    "version": 3
   },
   "file_extension": ".py",
   "mimetype": "text/x-python",
   "name": "python",
   "nbconvert_exporter": "python",
   "pygments_lexer": "ipython3",
   "version": "3.8.12"
  }
 },
 "nbformat": 4,
 "nbformat_minor": 5
}
