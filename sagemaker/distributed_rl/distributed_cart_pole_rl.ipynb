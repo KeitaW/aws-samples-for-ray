{
 "cells": [
  {
   "cell_type": "markdown",
   "metadata": {},
   "source": [
    "## Import Packages"
   ]
  },
  {
   "cell_type": "code",
   "execution_count": null,
   "metadata": {},
   "outputs": [],
   "source": [
    "from sagemaker.image_uris import get_training_image_uri\n",
    "from sagemaker.tuner import HyperparameterTuner, ContinuousParameter"
   ]
  },
  {
   "cell_type": "markdown",
   "metadata": {},
   "source": [
    "Review image uris to choose from for DLC"
   ]
  },
  {
   "cell_type": "code",
   "execution_count": null,
   "metadata": {},
   "outputs": [],
   "source": [
    "image_uri = get_training_image_uri(framework=\"tensorflow\", \n",
    "                       region=\"us-east-1\",\n",
    "                       py_version=\"py39\",\n",
    "                       framework_version=\"2.8\",\n",
    "                       instance_type=\"ml.m5.24xlarge\"\n",
    "                      )\n",
    "\n",
    "print(f'image uri: {image_uri}')"
   ]
  },
  {
   "cell_type": "code",
   "execution_count": null,
   "metadata": {},
   "outputs": [],
   "source": [
    "import json\n",
    "from pathlib import Path"
   ]
  },
  {
   "cell_type": "markdown",
   "metadata": {},
   "source": [
    "## Train model with PyTorch and TensorFlow"
   ]
  },
  {
   "cell_type": "markdown",
   "metadata": {},
   "source": [
    "Change bucket name below"
   ]
  },
  {
   "cell_type": "code",
   "execution_count": null,
   "metadata": {},
   "outputs": [],
   "source": [
    "import boto3\n",
    "import uuid\n",
    "import shutil\n",
    "import sagemaker\n",
    "from sagemaker.tensorflow import TensorFlow\n",
    "\n",
    "sess = sagemaker.session.Session()\n",
    "role = sagemaker.get_execution_role()\n",
    "bucket = sagemaker.session.Session().default_bucket() # change bucket name here if needed\n",
    "key_prefix = f\"{uuid.getnode()}/distributed_rl\""
   ]
  },
  {
   "cell_type": "code",
   "execution_count": null,
   "metadata": {},
   "outputs": [],
   "source": [
    "metric_definitions = [\n",
    "    {'Name': 'episode_reward_mean', 'Regex': 'episode_reward_max: ([-+]?[0-9]*[.]?[0-9]+([eE][-+]?[0-9]+)?)'},\n",
    "    {'Name': 'episode_reward_max', 'Regex': 'episode_reward_mean: ([-+]?[0-9]*[.]?[0-9]+([eE][-+]?[0-9]+)?)'}, \n",
    "    {'Name': 'episode_reward_min', 'Regex': 'episode_reward_min: ([-+]?[0-9]*[.]?[0-9]+([eE][-+]?[0-9]+)?)'},\n",
    "    {'Name': 'episodes_total', 'Regex': 'episodes_total: ([-+]?[0-9]*[.]?[0-9]+([eE][-+]?[0-9]+)?)'}, \n",
    "    {'Name': 'training_iteration', 'Regex': 'training_iteration: ([-+]?[0-9]*[.]?[0-9]+([eE][-+]?[0-9]+)?)'},\n",
    "    {'Name': 'timesteps_total', 'Regex': 'timesteps_total: ([-+]?[0-9]*[.]?[0-9]+([eE][-+]?[0-9]+)?)'}\n",
    "]"
   ]
  },
  {
   "cell_type": "code",
   "execution_count": 14,
   "metadata": {
    "scrolled": true
   },
   "outputs": [],
   "source": [
    "# Training with TensorFlow\n",
    "tb_logging_path = f\"s3://{bucket}/{key_prefix}/tb_logs/tf\"\n",
    "tf_estimator = TensorFlow(\n",
    "    source_dir = \"src\",\n",
    "    entry_point=\"train_cart_pole.py\",\n",
    "    role=role,\n",
    "    instance_count=2,\n",
    "    metric_definitions=metric_definitions,\n",
    "    hyperparameters={\"num-workers\":\"191\", \n",
    "                     \"framework\":\"tf\",\n",
    "                     \"train-iterations\": \"20\",\n",
    "                     \"lr\": \".001\"\n",
    "                    },\n",
    "    instance_type=\"ml.m5.24xlarge\", # try with m5.24xlarge\n",
    "    framework_version=\"2.8\",\n",
    "    py_version=\"py39\",\n",
    "    checkpoint_s3_uri=tb_logging_path,\n",
    "    keep_alive_period_in_seconds=1800\n",
    ")\n",
    "\n",
    "# tf_estimator.fit(wait=True) # change wait=True if you wnat to see the logs"
   ]
  },
  {
   "cell_type": "markdown",
   "metadata": {},
   "source": [
    "## HPO Job"
   ]
  },
  {
   "cell_type": "code",
   "execution_count": 15,
   "metadata": {},
   "outputs": [],
   "source": [
    "hp_ranges = {\"lr\": ContinuousParameter(0.001, 0.01)}"
   ]
  },
  {
   "cell_type": "code",
   "execution_count": 16,
   "metadata": {},
   "outputs": [],
   "source": [
    "tuner = HyperparameterTuner(\n",
    "    estimator=tf_estimator,\n",
    "    objective_metric_name='episode_reward_mean',\n",
    "    objective_type='Maximize',\n",
    "    metric_definitions=metric_definitions,\n",
    "    hyperparameter_ranges=hp_ranges,\n",
    "    max_jobs=8,\n",
    "    max_parallel_jobs=2,\n",
    "    base_tuning_job_name='byoc-cart-pole'\n",
    ")"
   ]
  },
  {
   "cell_type": "code",
   "execution_count": 17,
   "metadata": {},
   "outputs": [],
   "source": [
    "tuner.fit(wait=False)"
   ]
  }
 ],
 "metadata": {
  "instance_type": "ml.t3.medium",
  "kernelspec": {
   "display_name": "Python 3 (Data Science)",
   "language": "python",
   "name": "python3__SAGEMAKER_INTERNAL__arn:aws:sagemaker:us-east-1:081325390199:image/datascience-1.0"
  },
  "language_info": {
   "codemirror_mode": {
    "name": "ipython",
    "version": 3
   },
   "file_extension": ".py",
   "mimetype": "text/x-python",
   "name": "python",
   "nbconvert_exporter": "python",
   "pygments_lexer": "ipython3",
   "version": "3.7.10"
  }
 },
 "nbformat": 4,
 "nbformat_minor": 5
}
